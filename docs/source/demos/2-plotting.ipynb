{
 "cells": [
  {
   "cell_type": "markdown",
   "id": "b66b7b83-4d14-40d7-9ecc-feb8efe7b748",
   "metadata": {},
   "source": [
    "# Demo 2: Plotting"
   ]
  },
  {
   "cell_type": "markdown",
   "id": "39f2470f-c6c7-4b4b-8c94-aa0d634861b3",
   "metadata": {},
   "source": [
    "In this demo we use a generic dimuon analysis example with 3 datasets - Data, Drell-Yan, and TTbar. Only events with exactly two opposite-sign muons are selected, some event selections are applied, and dimuon pairs are constructed. The data is provided in the Pandas DataFrames format."
   ]
  },
  {
   "cell_type": "code",
   "execution_count": 1,
   "id": "0c13a3c0-3aa9-46e2-8a42-bff1ecd56af2",
   "metadata": {
    "tags": []
   },
   "outputs": [
    {
     "ename": "AttributeError",
     "evalue": "module 'awkward' has no attribute 'to_dataframe'",
     "output_type": "error",
     "traceback": [
      "\u001b[0;31m---------------------------------------------------------------------------\u001b[0m",
      "\u001b[0;31mAttributeError\u001b[0m                            Traceback (most recent call last)",
      "Cell \u001b[0;32mIn[1], line 9\u001b[0m\n\u001b[1;32m      7\u001b[0m \u001b[38;5;66;03m# Load datasets\u001b[39;00m\n\u001b[1;32m      8\u001b[0m \u001b[38;5;28;01mfor\u001b[39;00m src \u001b[38;5;129;01min\u001b[39;00m sources:\n\u001b[0;32m----> 9\u001b[0m     df \u001b[38;5;241m=\u001b[39m \u001b[43mload_events\u001b[49m\u001b[43m(\u001b[49m\u001b[38;5;124;43mf\u001b[39;49m\u001b[38;5;124;43m\"\u001b[39;49m\u001b[38;5;132;43;01m{\u001b[39;49;00m\u001b[43mserver\u001b[49m\u001b[38;5;132;43;01m}\u001b[39;49;00m\u001b[38;5;124;43m/\u001b[39;49m\u001b[38;5;132;43;01m{\u001b[39;49;00m\u001b[43msrc\u001b[49m\u001b[38;5;132;43;01m}\u001b[39;49;00m\u001b[38;5;124;43m.root\u001b[39;49m\u001b[38;5;124;43m\"\u001b[39;49m\u001b[43m)\u001b[49m\n\u001b[1;32m     10\u001b[0m     dimuon_mass[src] \u001b[38;5;241m=\u001b[39m df[\u001b[38;5;124m\"\u001b[39m\u001b[38;5;124mdimuon_mass\u001b[39m\u001b[38;5;124m\"\u001b[39m]\n",
      "File \u001b[0;32m~/demos/purdue-af-demo-sep2023/submodule/event_selection.py:55\u001b[0m, in \u001b[0;36mload_events\u001b[0;34m(file, max_events, use_dask_df)\u001b[0m\n\u001b[1;32m     41\u001b[0m mu_p4 \u001b[38;5;241m=\u001b[39m ak\u001b[38;5;241m.\u001b[39mArray(\n\u001b[1;32m     42\u001b[0m     ak\u001b[38;5;241m.\u001b[39mzip(\n\u001b[1;32m     43\u001b[0m         {\n\u001b[0;32m   (...)\u001b[0m\n\u001b[1;32m     50\u001b[0m     with_name \u001b[38;5;241m=\u001b[39m \u001b[38;5;124m\"\u001b[39m\u001b[38;5;124mMomentum4D\u001b[39m\u001b[38;5;124m\"\u001b[39m\n\u001b[1;32m     51\u001b[0m )\n\u001b[1;32m     54\u001b[0m \u001b[38;5;66;03m## Converting awkward arrays to panda dataframes\u001b[39;00m\n\u001b[0;32m---> 55\u001b[0m df_mu1 \u001b[38;5;241m=\u001b[39m \u001b[43mak\u001b[49m\u001b[38;5;241;43m.\u001b[39;49m\u001b[43mto_dataframe\u001b[49m(mu_p4[:,\u001b[38;5;241m0\u001b[39m])\n\u001b[1;32m     56\u001b[0m df_mu1 \u001b[38;5;241m=\u001b[39m df_mu1\u001b[38;5;241m.\u001b[39madd_prefix(\u001b[38;5;124m'\u001b[39m\u001b[38;5;124mmu1_\u001b[39m\u001b[38;5;124m'\u001b[39m)\n\u001b[1;32m     58\u001b[0m df_mu2 \u001b[38;5;241m=\u001b[39m ak\u001b[38;5;241m.\u001b[39mto_dataframe(mu_p4[:,\u001b[38;5;241m1\u001b[39m])\n",
      "\u001b[0;31mAttributeError\u001b[0m: module 'awkward' has no attribute 'to_dataframe'"
     ]
    }
   ],
   "source": [
    "from submodule.event_selection import load_events\n",
    "\n",
    "sources = [\"data\", \"ttbar\", \"dy\"]\n",
    "server = \"file:/depot/cms/purdue-af/demos/\"\n",
    "dimuon_mass = {}\n",
    "\n",
    "# Load datasets\n",
    "for src in sources:\n",
    "    df = load_events(f\"{server}/{src}.root\")\n",
    "    dimuon_mass[src] = df[\"dimuon_mass\"]"
   ]
  },
  {
   "cell_type": "markdown",
   "id": "95ce60db-56b6-4883-a0e9-b6270dd950d5",
   "metadata": {
    "tags": []
   },
   "source": [
    "Below are three examples of plotting the dimuon mass distribution (event weights are not applied):\n",
    "\n",
    "- `matplotlib`\n",
    "- `scikit-hep/mplhep`\n",
    "- `pyROOT`"
   ]
  },
  {
   "cell_type": "markdown",
   "id": "8d1f93e0-d751-4430-aee7-3ec813dd491f",
   "metadata": {},
   "source": [
    "### Plotting using Matplotlib"
   ]
  },
  {
   "cell_type": "code",
   "execution_count": null,
   "id": "e8210617-d7a3-4da4-bace-2b631a4c08f9",
   "metadata": {
    "tags": []
   },
   "outputs": [],
   "source": [
    "import matplotlib.pyplot as plt\n",
    "import numpy as np\n",
    "\n",
    "plt.figure(figsize=(6,5))\n",
    "\n",
    "plt.hist(dimuon_mass[\"dy\"], bins=150, range=(0, 150), histtype='step',linewidth=2, color='blue', label='DY+Jets')\n",
    "plt.hist(dimuon_mass[\"ttbar\"], bins=150, range=(0, 150), histtype='step',linewidth=2, color='orange', label='ttbar')\n",
    "n, bins, patches = plt.hist(dimuon_mass[\"data\"], bins=150, range=(0, 150), histtype='step',linewidth=0 )\n",
    "\n",
    "errory = np.sqrt(n)\n",
    "plt.errorbar(np.linspace(0,150,150), n,yerr= errory, fmt='o', markersize=3, color='k', label='Data')\n",
    "\n",
    "plt.xlabel('$M_{\\mu\\mu}$ [GeV]')\n",
    "plt.ylabel('Events')\n",
    "plt.yscale('log')\n",
    "plt.legend()\n",
    "\n",
    "#plt.savefig(f\"dimuon_mass.pdf\")\n",
    "plt.show()\n",
    "plt.clf()"
   ]
  },
  {
   "cell_type": "markdown",
   "id": "3e3f0e80-590e-48d3-bf93-010eabfd22b5",
   "metadata": {},
   "source": [
    "### Plotting using `mplhep`"
   ]
  },
  {
   "cell_type": "code",
   "execution_count": null,
   "id": "a70d8311-e1bd-465d-982e-f0553d6fa97b",
   "metadata": {
    "tags": []
   },
   "outputs": [],
   "source": [
    "import matplotlib.pyplot as plt\n",
    "import mplhep as hep\n",
    "import numpy as np\n",
    "\n",
    "# CMS plot style\n",
    "style = hep.style.CMS\n",
    "style[\"font.size\"] = 13\n",
    "plt.style.use(style)\n",
    "\n",
    "plt.figure(figsize=(6,5))\n",
    "\n",
    "hists = {}\n",
    "for src in [\"dy\", \"ttbar\", \"data\"]:\n",
    "    hists[src], bins = np.histogram(dimuon_mass[src], bins=150, range=(0,150))\n",
    "\n",
    "hep.histplot(hists[\"dy\"], bins=bins, histtype='step',linewidth=2, color='blue', label='DY+Jets')\n",
    "hep.histplot(hists[\"ttbar\"], bins=bins, histtype='step',linewidth=2, color='orange', label='ttbar')\n",
    "hep.histplot(hists[\"data\"], bins=bins, histtype='errorbar',linewidth=0, markersize=5, color='black', label='Data')\n",
    "\n",
    "# \"CMS Preliminary\" label\n",
    "hep.cms.label(loc=0, label=\"Preliminary\", data=True)\n",
    "\n",
    "plt.xlabel('$M_{\\mu\\mu}$ [GeV]')\n",
    "plt.ylabel('Events')\n",
    "plt.yscale('log')\n",
    "plt.legend()\n",
    "\n",
    "#plt.savefig(f\"dimuon_mass.pdf\")\n",
    "plt.show()\n",
    "plt.clf()"
   ]
  },
  {
   "cell_type": "markdown",
   "id": "5b3e1982-3327-4d4a-b291-921406f7b409",
   "metadata": {},
   "source": [
    "### Plotting using pyROOT"
   ]
  },
  {
   "cell_type": "code",
   "execution_count": null,
   "id": "81562e6a-4a02-4844-a816-0993d1749de5",
   "metadata": {
    "tags": []
   },
   "outputs": [],
   "source": [
    "import ROOT\n",
    "\n",
    "c1 = ROOT.TCanvas( 'c1', 'Dynamic Filling Example', 200, 10, 600, 500 )\n",
    "c1.Clear()\n",
    "c1.cd()\n",
    "\n",
    "colors_ = {\n",
    "    \"dy\": 600,\n",
    "    \"ttbar\": 800,\n",
    "    \"data\": 1\n",
    "} \n",
    "\n",
    "h = {}\n",
    "for src in [\"dy\", \"ttbar\", \"data\"]:\n",
    "    h[src] = ROOT.TH1F(\"dimuon_mass_\"+src,\"Dimuon mass\",150,0,150)\n",
    "    for m in dimuon_mass[src]:\n",
    "        h[src].Fill(m)\n",
    "        h[src].SetLineColor(colors_[src])\n",
    "        h[src].SetLineWidth(2)\n",
    "\n",
    "c1.Clear()\n",
    "c1.SetLogy()\n",
    "\n",
    "h[\"dy\"].Draw()\n",
    "h[\"ttbar\"].Draw('same')\n",
    "h[\"data\"].Draw('lep,same')\n",
    "\n",
    "h[\"dy\"].SetStats(0)\n",
    "h[\"dy\"].GetYaxis().SetRangeUser(0.2, 1e5)\n",
    "h[\"dy\"].GetYaxis().SetTitle(\"Events\")\n",
    "h[\"dy\"].GetXaxis().SetTitle(\"M_{#mu#mu} [GeV]\")\n",
    "\n",
    "legend = ROOT.TLegend(0.65, 0.70, 0.88, 0.88)\n",
    "legend.SetTextSize(0.035)\n",
    "legend.AddEntry(h[\"dy\"],\"DY+Jets\", \"lp\")\n",
    "legend.AddEntry(h[\"ttbar\"],\"ttbar\", \"lp\")\n",
    "legend.AddEntry(h[\"data\"],\"Data\", \"lp\")\n",
    "\n",
    "\n",
    "legend.Draw()\n",
    "\n",
    "c1.Modified()\n",
    "c1.Update()\n",
    "\n",
    "c1.Draw()"
   ]
  },
  {
   "cell_type": "code",
   "execution_count": null,
   "id": "0d8b0757-ce99-4562-a530-0c791d57a098",
   "metadata": {},
   "outputs": [],
   "source": []
  }
 ],
 "metadata": {
  "kernelspec": {
   "display_name": "Python3 kernel (default)",
   "language": "python",
   "name": "python3"
  },
  "language_info": {
   "codemirror_mode": {
    "name": "ipython",
    "version": 3
   },
   "file_extension": ".py",
   "mimetype": "text/x-python",
   "name": "python",
   "nbconvert_exporter": "python",
   "pygments_lexer": "ipython3",
   "version": "3.10.10"
  }
 },
 "nbformat": 4,
 "nbformat_minor": 5
}
