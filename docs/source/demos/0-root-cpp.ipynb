{
 "cells": [
  {
   "cell_type": "markdown",
   "id": "d35e3e3a-9875-488c-ad07-7cebfb7b0c84",
   "metadata": {
    "tags": []
   },
   "source": [
    "# Demo 0: ROOT C++ notebook example\n",
    "\n",
    "This example uses the ROOT C++ kernel which is enabled automatically during ROOT installation.\n",
    "\n",
    "The example macro is taken from here: https://root.cern/doc/master/hstack_8C.html\n"
   ]
  },
  {
   "cell_type": "code",
   "execution_count": null,
   "id": "050b52bf-8f14-43c9-be28-b20dc49ebdac",
   "metadata": {
    "tags": []
   },
   "outputs": [],
   "source": [
    "// print ROOT version\n",
    "cout << ROOT_RELEASE;"
   ]
  },
  {
   "cell_type": "markdown",
   "id": "ba5341e9-15fd-49e6-8c8e-d8ae6ecd188a",
   "metadata": {},
   "source": [
    "1. Create three histograms and add them to the stack."
   ]
  },
  {
   "cell_type": "code",
   "execution_count": null,
   "id": "e3ca01bb-4bcd-4a78-8b95-c189e654343b",
   "metadata": {
    "tags": []
   },
   "outputs": [],
   "source": [
    "auto hs = new THStack(\"hs\",\"Stacked 1D histograms\");\n",
    "auto h1st = new TH1F(\"h1st\",\"test hstack\",100,-4,4);\n",
    "h1st->FillRandom(\"gaus\",20000);\n",
    "h1st->SetFillColor(kRed);\n",
    "h1st->SetMarkerStyle(21);\n",
    "h1st->SetMarkerColor(kRed);\n",
    "hs->Add(h1st);\n",
    "auto h2st = new TH1F(\"h2st\",\"test hstack\",100,-4,4);\n",
    "h2st->FillRandom(\"gaus\",15000);\n",
    "h2st->SetFillColor(kBlue);\n",
    "h2st->SetMarkerStyle(21);\n",
    "h2st->SetMarkerColor(kBlue);\n",
    "hs->Add(h2st);\n",
    "auto h3st = new TH1F(\"h3st\",\"test hstack\",100,-4,4);\n",
    "h3st->FillRandom(\"gaus\",10000);\n",
    "h3st->SetFillColor(kGreen);\n",
    "h3st->SetMarkerStyle(21);\n",
    "h3st->SetMarkerColor(kGreen);\n",
    "hs->Add(h3st);"
   ]
  },
  {
   "cell_type": "markdown",
   "id": "4190c62c-f874-410e-a2f7-27ddf68c0f42",
   "metadata": {},
   "source": [
    "2. Create a canvas (plots will appear after the canvas is drawn)."
   ]
  },
  {
   "cell_type": "code",
   "execution_count": null,
   "id": "d7b613db-6c56-4b27-9ce7-915a9d4e9f9e",
   "metadata": {
    "tags": []
   },
   "outputs": [],
   "source": [
    "auto cst = new TCanvas(\"cst\",\"stacked hists\",10,10,700,700);\n",
    "cst->Divide(2,2);"
   ]
  },
  {
   "cell_type": "markdown",
   "id": "9d34740f-7951-4b69-9cec-23c226c5e672",
   "metadata": {},
   "source": [
    "3. In top left pad, draw the stack with defaults."
   ]
  },
  {
   "cell_type": "code",
   "execution_count": null,
   "id": "845db206-80c6-4ee4-afbb-2e32d4339645",
   "metadata": {
    "tags": []
   },
   "outputs": [],
   "source": [
    "cst->cd(1);\n",
    "hs->Draw();"
   ]
  },
  {
   "cell_type": "markdown",
   "id": "86067056-7b94-4bd5-9a41-52889f8e7e1b",
   "metadata": {},
   "source": [
    "4. In top right pad, draw the stack in non-stack mode and errors option."
   ]
  },
  {
   "cell_type": "code",
   "execution_count": null,
   "id": "b6d2866c-0ee7-42c4-b41e-ab06d5999d60",
   "metadata": {
    "tags": []
   },
   "outputs": [],
   "source": [
    "cst->cd(2);\n",
    "gPad->SetGrid();\n",
    "hs->Draw(\"nostack,e1p\");"
   ]
  },
  {
   "cell_type": "markdown",
   "id": "303d9480-b62b-4163-8ea6-71c03e2e7384",
   "metadata": {},
   "source": [
    "5. In bottom left, draw in stack mode with `lego1` option."
   ]
  },
  {
   "cell_type": "code",
   "execution_count": null,
   "id": "dd10c956-1ac6-462b-9f9e-c9e2c4c25787",
   "metadata": {
    "tags": []
   },
   "outputs": [],
   "source": [
    "cst->cd(3);\n",
    "gPad->SetFrameFillColor(17);\n",
    "gPad->SetTheta(3.77);\n",
    "gPad->SetPhi(2.9);\n",
    "hs->Draw(\"lego1\");"
   ]
  },
  {
   "cell_type": "markdown",
   "id": "c2e9fbb4-4a89-444f-ab5b-f6e03e5a0d58",
   "metadata": {},
   "source": [
    "6. Create two 2-D histograms and draw them in stack mode in bottom right."
   ]
  },
  {
   "cell_type": "code",
   "execution_count": null,
   "id": "17e4ec6a-785e-4a28-bf60-5c62c76af741",
   "metadata": {
    "tags": []
   },
   "outputs": [],
   "source": [
    "cst->cd(4);\n",
    "gPad->SetFrameFillColor(17);\n",
    "auto a = new THStack(\"a\",\"Stacked 2D histograms\");\n",
    "auto f1 = new TF2(\"f1\", \"xygaus + xygaus(5) + xylandau(10)\",-4,4,-4,4);\n",
    "Double_t params1[] = {130,-1.4,1.8,1.5,1, 150,2,0.5,-2,0.5,3600,-2,0.7,-3,0.3};\n",
    "f1->SetParameters(params1);\n",
    "auto h2sta = new TH2F(\"h2sta\",\"h2sta\",20,-4,4,20,-4,4);\n",
    "h2sta->SetFillColor(38);\n",
    "h2sta->FillRandom(\"f1\",4000);\n",
    "auto f2 = new TF2(\"f2\",\"xygaus + xygaus(5)\",-4,4,-4,4);\n",
    "Double_t params2[] = {100,-1.4,1.9,1.1,2, 80,2,0.7,-2,0.5};\n",
    "f2->SetParameters(params2);\n",
    "auto h2stb = new TH2F(\"h2stb\",\"h2stb\",20,-4,4,20,-4,4);\n",
    "h2stb->SetFillColor(46);\n",
    "h2stb->FillRandom(\"f2\",3000);\n",
    "a->Add(h2sta);\n",
    "a->Add(h2stb);\n",
    "a->Draw();"
   ]
  },
  {
   "cell_type": "markdown",
   "id": "183ed733-cf0c-443f-a712-008332cc1315",
   "metadata": {},
   "source": [
    "7. Draw the canvas"
   ]
  },
  {
   "cell_type": "code",
   "execution_count": null,
   "id": "af339170-314c-459f-8deb-1b836b082622",
   "metadata": {
    "tags": []
   },
   "outputs": [],
   "source": [
    "cst->Draw();"
   ]
  }
 ],
 "metadata": {
  "kernelspec": {
   "display_name": "ROOT C++",
   "language": "c++",
   "name": "root"
  },
  "language_info": {
   "codemirror_mode": "text/x-c++src",
   "file_extension": ".C",
   "mimetype": " text/x-c++src",
   "name": "c++"
  }
 },
 "nbformat": 4,
 "nbformat_minor": 5
}
