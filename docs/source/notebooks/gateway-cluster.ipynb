{
 "cells": [
  {
   "cell_type": "markdown",
   "metadata": {},
   "source": [
    "# Dask Gateway tutorial"
   ]
  },
  {
   "cell_type": "markdown",
   "id": "d4a8c23e-591e-43ea-a398-6a1eee304a44",
   "metadata": {},
   "source": [
    "<div class=\"alert alert-warning\">\n",
    "Warning\n",
    "\n",
    "Dask Gateway creates schedulers and workers at the Purdue Hammer cluster via SLURM.\n",
    "\n",
    "Therefore, all analysis code that uses Dask Gateway must be stored in a storage volume accessible from both Hammer cluster, and from Purdue Analysis Facility. At the moment, there is only one such volume - **Purdue Depot storage**.\n",
    "\n",
    "Depot is only accessbile for users with a Purdue account, therefore **CERN and FNAL users cannot use Dask Gateway at the moment**.\n",
    "</div>\n",
    "\n",
    "- Default conda environments `python3` and `python3-ml` have all necessary software installed. If you want to use Dask Gateway in your own environment, make sure that it contains `dask-gateway`, `ipykernel` and `ipywidgets` packages.\n",
    "- For more information, refer to [Dask Gateway documentation](https://gateway.dask.org)."
   ]
  },
  {
   "cell_type": "markdown",
   "id": "bea9c781-da57-4ad2-99fa-b0502465c4d3",
   "metadata": {
    "tags": []
   },
   "source": [
    "**1. Initialize `gateway` object.** It will be used to interact with your Dask clusters."
   ]
  },
  {
   "cell_type": "code",
   "execution_count": 1,
   "id": "dd1e08c7-1606-4995-8ae9-750e45bfefe1",
   "metadata": {
    "tags": []
   },
   "outputs": [],
   "source": [
    "from dask_gateway import Gateway\n",
    "gateway = Gateway()"
   ]
  },
  {
   "cell_type": "markdown",
   "id": "5679754e-04d0-4a4d-a54d-642b5f4d512c",
   "metadata": {},
   "source": [
    "**2. Configure cluster.** There are two ways to configure a Dask cluster, choose what works better in your case:\n",
    "\n",
    "1. Using `options` object via interactive Jupyter widget\n",
    "2. Using keyword arguments (will override `options`)"
   ]
  },
  {
   "cell_type": "code",
   "execution_count": 2,
   "id": "ae82568c-5e73-495a-943a-e6551f1a2a11",
   "metadata": {
    "tags": []
   },
   "outputs": [
    {
     "data": {
      "application/vnd.jupyter.widget-view+json": {
       "model_id": "c879344f3c16474788b9a1067bf3a2e5",
       "version_major": 2,
       "version_minor": 0
      },
      "text/plain": [
       "VBox(children=(HTML(value='<h2>Cluster Options</h2>'), GridBox(children=(HTML(value=\"<p style='font-weight: bo…"
      ]
     },
     "metadata": {},
     "output_type": "display_data"
    }
   ],
   "source": [
    "# Run this cell to launch \"options\" widget (the widget will be displayed properly if\n",
    "# the cell is executed using a kernel with `ipywidgets`` installed).\n",
    "# Changes to parameters in the widget are automatically applied to the \"options\" object.\n",
    "options = gateway.cluster_options()\n",
    "options"
   ]
  },
  {
   "cell_type": "markdown",
   "metadata": {},
   "source": [
    "*An example of how the widget for Gateway options will look like:*\n",
    "<div>\n",
    "<img src=\"../images/dask-gateway-widget-options.png\" width=\"600\"/>\n",
    "</div>\n"
   ]
  },
  {
   "cell_type": "markdown",
   "id": "d07c6819-8987-437e-ad44-845eaa3241d0",
   "metadata": {},
   "source": [
    "**3. Create a new cluster.**\n",
    "If Slurm job doesn't get scheduled within `cluster_start_timout`, the cluster creation will fail. You can try to increase timeout or use a different queue."
   ]
  },
  {
   "cell_type": "code",
   "execution_count": 3,
   "id": "1f5f2107-344a-4340-8dd0-fa2758f93e40",
   "metadata": {
    "tags": []
   },
   "outputs": [
    {
     "data": {
      "application/vnd.jupyter.widget-view+json": {
       "model_id": "6260e77fdc82429b8c84d63e4a00bd70",
       "version_major": 2,
       "version_minor": 0
      },
      "text/plain": [
       "VBox(children=(HTML(value='<h2>GatewayCluster</h2>'), HBox(children=(HTML(value='\\n<div>\\n<style scoped>\\n    …"
      ]
     },
     "metadata": {},
     "output_type": "display_data"
    }
   ],
   "source": [
    "# 1. using \"options\" object\n",
    "\n",
    "cluster = gateway.new_cluster(options)\n",
    "\n",
    "# 2. using keywords (will override values set in \"options\")\n",
    "\n",
    "# cluster = gateway.new_cluster(\n",
    "#     options, # not required\n",
    "#     conda_env = \"/depot/cms/kernels/python3-ml\",\n",
    "#     queue = \"cms\",\n",
    "#     worker_cores = 1,\n",
    "#     worker_memory = 4,\n",
    "#     env = {\"KEY1\": \"VALUE1\", \"KEY2\": \"VALUE2\"},\n",
    "#     cluster_start_timeout = 60,\n",
    "# )\n",
    "\n",
    "cluster"
   ]
  },
  {
   "cell_type": "markdown",
   "metadata": {},
   "source": [
    "*An example of how the widget for the Gateway cluster will look like:*\n",
    "<div>\n",
    "<img src=\"../images/dask-gateway-widget-cluster.png\" width=\"600\"/>\n",
    "</div>"
   ]
  },
  {
   "cell_type": "markdown",
   "id": "e9ab3b24-215c-494c-85e7-a4d734075cea",
   "metadata": {},
   "source": [
    "Clusters can be scaled either via Jupyter widget or via `cluster.scale()` and `cluster.adapt()` commands."
   ]
  },
  {
   "cell_type": "markdown",
   "id": "cbabcaff-d662-44f7-8176-936ddc3a03ad",
   "metadata": {
    "tags": []
   },
   "source": [
    "**3a. Connect to an existing cluster.**\n",
    "Use the commands below instead of `gateway.new_cluster()` to connect to an existing cluster."
   ]
  },
  {
   "cell_type": "code",
   "execution_count": 4,
   "id": "61d458a9-e2cd-4036-86ee-1a78462682ab",
   "metadata": {
    "tags": []
   },
   "outputs": [
    {
     "name": "stdout",
     "output_type": "stream",
     "text": [
      "[ClusterReport<name=ef4fac36f4524184ba21ab67f842a9c7, status=RUNNING>]\n"
     ]
    }
   ],
   "source": [
    "# List available clusters\n",
    "clusters = gateway.list_clusters()\n",
    "print(clusters)"
   ]
  },
  {
   "cell_type": "code",
   "execution_count": 5,
   "id": "e284099f-e9a7-48b0-a148-5b99ad82a8f4",
   "metadata": {
    "tags": []
   },
   "outputs": [],
   "source": [
    "# Connect to an existing cluster by name\n",
    "cluster_name = \"ef4fac36f4524184ba21ab67f842a9c7\"   # paste cluster name here\n",
    "cluster = gateway.connect(cluster_name)"
   ]
  },
  {
   "cell_type": "markdown",
   "id": "28c5d4dd-4676-411a-97a4-b947d9ef2f2b",
   "metadata": {
    "tags": []
   },
   "source": [
    "**4. Connect a client to a cluster.**"
   ]
  },
  {
   "cell_type": "code",
   "execution_count": 6,
   "id": "292348fe-3c99-4b23-8958-f4d17d9fe373",
   "metadata": {
    "tags": []
   },
   "outputs": [],
   "source": [
    "client = cluster.get_client()\n",
    "\n",
    "# Or connect to a specific cluster by name:\n",
    "# cluster_name = \"ef4fac36f4524184ba21ab67f842a9c7\"   # paste cluster name here\n",
    "# client = gateway.connect(cluster_name).get_client()"
   ]
  },
  {
   "cell_type": "markdown",
   "id": "3e60ca38-a8a2-404e-9502-bc4d883fea39",
   "metadata": {},
   "source": [
    "**5. Shut down cluster.**"
   ]
  },
  {
   "cell_type": "code",
   "execution_count": 7,
   "id": "22c9c5f6-29b7-4e44-8ed8-8b97bf1f808f",
   "metadata": {},
   "outputs": [],
   "source": [
    "cluster.shutdown()\n",
    "\n",
    "# Or shut down a specific cluster by name:\n",
    "# cluster_name = \"ef4fac36f4524184ba21ab67f842a9c7\"   # paste cluster name here\n",
    "# client = gateway.connect(cluster_name).shutdown()"
   ]
  },
  {
   "cell_type": "markdown",
   "id": "ced19b61-6706-4861-8390-804261092e71",
   "metadata": {},
   "source": [
    "**Shut down all clusters:**"
   ]
  },
  {
   "cell_type": "code",
   "execution_count": 8,
   "id": "0b20a397-fe18-446b-a9f1-f164507c2524",
   "metadata": {
    "tags": []
   },
   "outputs": [],
   "source": [
    "for cluster_info in gateway.list_clusters():\n",
    "    gateway.connect(cluster_info.name).shutdown()"
   ]
  },
  {
   "cell_type": "code",
   "execution_count": null,
   "id": "b190b8d8-f8e2-4107-afab-52ee794fc4fc",
   "metadata": {},
   "outputs": [],
   "source": []
  }
 ],
 "metadata": {
  "kernelspec": {
   "display_name": "Python3 kernel [ML]",
   "language": "python",
   "name": "python3-ml"
  },
  "language_info": {
   "codemirror_mode": {
    "name": "ipython",
    "version": 3
   },
   "file_extension": ".py",
   "mimetype": "text/x-python",
   "name": "python",
   "nbconvert_exporter": "python",
   "pygments_lexer": "ipython3",
   "version": "3.10.10"
  }
 },
 "nbformat": 4,
 "nbformat_minor": 5
}
